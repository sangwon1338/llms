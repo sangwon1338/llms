{
 "cells": [
  {
   "cell_type": "markdown",
   "id": "23fbbbab",
   "metadata": {},
   "source": [
    "# QLoRA 파인튜닝 실습"
   ]
  },
  {
   "cell_type": "markdown",
   "id": "3b639600",
   "metadata": {},
   "source": [
    "## 4.2.1 QLoRA 설치 및 설정"
   ]
  },
  {
   "cell_type": "code",
   "execution_count": null,
   "id": "c5c16ebc",
   "metadata": {},
   "outputs": [],
   "source": [
    "!pip install transformers peft bitsandbytes"
   ]
  },
  {
   "cell_type": "markdown",
   "id": "1c5d1cb7",
   "metadata": {},
   "source": [
    "## 4.2.2 QLoRA 파인튜닝 예제 - KoAlpaca 데이터셋을 사용한 4비트 파인튜닝"
   ]
  },
  {
   "cell_type": "markdown",
   "id": "fd912c73",
   "metadata": {},
   "source": [
    "### 모델과 토크나이저 로드 및 양자화 설정"
   ]
  },
  {
   "cell_type": "code",
   "execution_count": null,
   "id": "e4f306fb",
   "metadata": {},
   "outputs": [],
   "source": [
    "from transformers import AutoModelForCausalLM, AutoTokenizer\n",
    "from peft import LoraConfig, get_peft_model\n",
    "\n",
    "# 4비트 양자화 모델 로드\n",
    "model_name = \"meta-llama/Llama-3.2-1B\"\n",
    "model = AutoModelForCausalLM.from_pretrained(\n",
    "    model_name,\n",
    "    load_in_4bit=True,\n",
    "    device_map=\"auto\"\n",
    ")\n",
    "tokenizer = AutoTokenizer.from_pretrained(model_name)\n"
   ]
  },
  {
   "cell_type": "markdown",
   "id": "3592a66e",
   "metadata": {},
   "source": [
    "### 1. QLoRA 설정"
   ]
  },
  {
   "cell_type": "code",
   "execution_count": null,
   "id": "6e082036",
   "metadata": {},
   "outputs": [],
   "source": [
    "# QLoRA 설정\n",
    "lora_config = LoraConfig(\n",
    "    r=4,\n",
    "    lora_alpha=16,\n",
    "    lora_dropout=0.1,\n",
    "    bias=\"none\",\n",
    "    task_type=\"CAUSAL_LM\"\n",
    ")\n",
    "\n",
    "# QLoRA 모델 생성\n",
    "model = get_peft_model(model, lora_config)\n"
   ]
  },
  {
   "cell_type": "markdown",
   "id": "39b72e53",
   "metadata": {},
   "source": [
    "### 2. KoAlpaca 데이터셋 로드 및 전처리"
   ]
  },
  {
   "cell_type": "code",
   "execution_count": null,
   "id": "94077e13",
   "metadata": {},
   "outputs": [],
   "source": [
    "from datasets import load_dataset\n",
    "\n",
    "# KoAlpaca 데이터셋 로드 및 전처리\n",
    "dataset = load_dataset(\"beomi/KoAlpaca-v1.1a\", split=\"train\")\n",
    "dataset = dataset.map(lambda x: tokenizer(x['instruction'] + x['output'], padding=\"max_length\", truncation=True, max_length=512, return_tensors=\"pt\"))\n"
   ]
  },
  {
   "cell_type": "markdown",
   "id": "2d79495f",
   "metadata": {},
   "source": [
    "### 3. 훈련 설정"
   ]
  },
  {
   "cell_type": "code",
   "execution_count": null,
   "id": "d5362280",
   "metadata": {},
   "outputs": [],
   "source": [
    "from transformers import Trainer, TrainingArguments\n",
    "\n",
    "# 훈련 설정\n",
    "training_args = TrainingArguments(\n",
    "    output_dir=\"./qlora_llama_finetune\",\n",
    "    per_device_train_batch_size=2,\n",
    "    num_train_epochs=3,\n",
    "    save_steps=10,\n",
    "    logging_steps=10,\n",
    "    logging_dir='./logs'\n",
    ")\n"
   ]
  },
  {
   "cell_type": "markdown",
   "id": "398706c5",
   "metadata": {},
   "source": [
    "### 4. Trainer 객체 생성 및 파인튜닝 실행"
   ]
  },
  {
   "cell_type": "code",
   "execution_count": null,
   "id": "56b2be4c",
   "metadata": {},
   "outputs": [],
   "source": [
    "# Trainer 객체 생성 및 파인튜닝 실행\n",
    "trainer = Trainer(\n",
    "    model=model,\n",
    "    args=training_args,\n",
    "    train_dataset=dataset\n",
    ")\n",
    "trainer.train()\n"
   ]
  },
  {
   "cell_type": "markdown",
   "id": "35958a3e",
   "metadata": {},
   "source": [
    "### 5. 파인튜닝된 모델 저장"
   ]
  },
  {
   "cell_type": "code",
   "execution_count": null,
   "id": "6376efe8",
   "metadata": {},
   "outputs": [],
   "source": [
    "# 파인튜닝된 모델 저장\n",
    "model.save_pretrained(\"./qlora_llama_finetuned\")\n"
   ]
  },
  {
   "cell_type": "markdown",
   "id": "95d385ba",
   "metadata": {},
   "source": [
    "## 4.2.3 파인튜닝 결과 확인"
   ]
  },
  {
   "cell_type": "code",
   "execution_count": null,
   "id": "cbb30168",
   "metadata": {},
   "outputs": [],
   "source": [
    "# 파인튜닝된 모델 로드\n",
    "model = AutoModelForCausalLM.from_pretrained(\"./qlora_llama_finetuned\")\n",
    "tokenizer = AutoTokenizer.from_pretrained(model_name)\n",
    "\n",
    "# 결과 확인\n",
    "input_text = \"KoAlpaca 데이터셋을 이용한 학습 결과는\"\n",
    "inputs = tokenizer(input_text, return_tensors=\"pt\")\n",
    "output = model.generate(inputs[\"input_ids\"], max_length=50)\n",
    "print(\"QLoRA 파인튜닝 응답:\", tokenizer.decode(output[0], skip_special_tokens=True))\n"
   ]
  }
 ],
 "metadata": {},
 "nbformat": 4,
 "nbformat_minor": 5
}
