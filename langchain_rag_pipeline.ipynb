{
 "cells": [
  {
   "cell_type": "markdown",
   "id": "78c2b463",
   "metadata": {},
   "source": [
    "# LangChain 설치 및 RAG 파이프라인 구성"
   ]
  },
  {
   "cell_type": "markdown",
   "id": "07d9a9dc",
   "metadata": {},
   "source": [
    "## 2.2.2 LangChain 설치 및 설정"
   ]
  },
  {
   "cell_type": "code",
   "execution_count": null,
   "id": "a0f961de",
   "metadata": {},
   "outputs": [],
   "source": [
    "!pip install langchain"
   ]
  },
  {
   "cell_type": "markdown",
   "id": "db9a727c",
   "metadata": {},
   "source": [
    "## 2.3 RAG 파이프라인 구성"
   ]
  },
  {
   "cell_type": "markdown",
   "id": "931ad837",
   "metadata": {},
   "source": [
    "### 2.3.1 데이터 준비 및 인덱싱"
   ]
  },
  {
   "cell_type": "code",
   "execution_count": null,
   "id": "934fed3d",
   "metadata": {},
   "outputs": [],
   "source": [
    "from sentence_transformers import SentenceTransformer\n",
    "from langchain.vectorstores import FAISS\n",
    "\n",
    "# Hugging Face 임베딩 모델 로드\n",
    "model_name = \"sentence-transformers/all-MiniLM-L6-v2\"\n",
    "hf_embeddings = SentenceTransformer(model_name)\n",
    "\n",
    "# 데이터 준비\n",
    "data = [\n",
    "    \"RAG는 언어 모델이 외부 지식 베이스와 통합하여 문맥에 맞는 응답을 생성하도록 돕는 기술입니다.\",\n",
    "    \"LangChain은 다양한 언어 모델을 활용하여 애플리케이션을 개발할 수 있는 프레임워크입니다.\",\n",
    "    \"FAISS는 유사도 검색을 위한 효율적인 벡터 인덱싱 도구입니다.\"\n",
    "]\n",
    "\n",
    "# 데이터 임베딩 생성\n",
    "embeddings = [hf_embeddings.encode(doc) for doc in data]\n",
    "vector_store = FAISS.from_embeddings(embeddings, data)\n"
   ]
  },
  {
   "cell_type": "markdown",
   "id": "a1da468b",
   "metadata": {},
   "source": [
    "### 2.3.2 생성기(Generation Component) 설정"
   ]
  },
  {
   "cell_type": "code",
   "execution_count": null,
   "id": "5d5e1689",
   "metadata": {},
   "outputs": [],
   "source": [
    "from langchain.chains import RAGChain\n",
    "from langchain.llms import HuggingFaceLLM\n",
    "\n",
    "# Hugging Face의 사전 학습된 언어 모델 사용\n",
    "llm = HuggingFaceLLM(model_name=\"meta-llama/Llama-3.2-1B\")\n",
    "\n",
    "# RAG 체인 생성\n",
    "rag_chain = RAGChain(llm=llm, retriever=vector_store.as_retriever())\n"
   ]
  },
  {
   "cell_type": "markdown",
   "id": "8f490e36",
   "metadata": {},
   "source": [
    "### 2.3.3 RAG 실습 예제"
   ]
  },
  {
   "cell_type": "code",
   "execution_count": null,
   "id": "020885f0",
   "metadata": {},
   "outputs": [],
   "source": [
    "# RAG 체인을 이용한 검색 및 응답 생성\n",
    "\n",
    "query = \"LangChain과 RAG가 무엇인가요?\"\n",
    "result = rag_chain.run(query)\n",
    "\n",
    "print(\"생성된 응답:\", result)\n"
   ]
  }
 ],
 "metadata": {},
 "nbformat": 4,
 "nbformat_minor": 5
}
