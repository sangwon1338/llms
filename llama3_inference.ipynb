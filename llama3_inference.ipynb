{
 "cells": [
  {
   "cell_type": "markdown",
   "id": "a4100a1e",
   "metadata": {},
   "source": [
    "# LLAMA3 모델 설치 및 로드"
   ]
  },
  {
   "cell_type": "code",
   "execution_count": null,
   "id": "6453ffe0",
   "metadata": {},
   "outputs": [],
   "source": [
    "from transformers import AutoTokenizer, AutoModelForCausalLM\n",
    "\n",
    "# LLAMA3 모델과 토크나이저 로드\n",
    "tokenizer = AutoTokenizer.from_pretrained(\"meta-llama/Llama-3b\")\n",
    "model = AutoModelForCausalLM.from_pretrained(\"meta-llama/Llama-3b\")\n"
   ]
  },
  {
   "cell_type": "markdown",
   "id": "8e7a391a",
   "metadata": {},
   "source": [
    "## 1.4 LLAMA3 모델 다운로드 및 로드"
   ]
  },
  {
   "cell_type": "code",
   "execution_count": null,
   "id": "12fffa91",
   "metadata": {},
   "outputs": [],
   "source": [
    "# LLAMA3 모델 선택 및 다운로드\n",
    "\n",
    "# 이미 설치된 경우에는 다운로드가 생략됩니다.\n",
    "model_name = \"meta-llama/Llama-3.2-1B\"\n",
    "tokenizer = AutoTokenizer.from_pretrained(model_name)\n",
    "model = AutoModelForCausalLM.from_pretrained(model_name)\n"
   ]
  },
  {
   "cell_type": "markdown",
   "id": "a9bd497b",
   "metadata": {},
   "source": [
    "## 1.5 간단한 추론 예제"
   ]
  },
  {
   "cell_type": "markdown",
   "id": "195bc4ce",
   "metadata": {},
   "source": [
    "### 1.5.1 입력 텍스트 준비"
   ]
  },
  {
   "cell_type": "code",
   "execution_count": null,
   "id": "e41ddb49",
   "metadata": {},
   "outputs": [],
   "source": [
    "# 입력 텍스트 설정\n",
    "input_text = \"옛날 옛적에 먼 나라에\"\n"
   ]
  },
  {
   "cell_type": "markdown",
   "id": "19acba23",
   "metadata": {},
   "source": [
    "### 1.5.2 텍스트 토큰화 및 텐서 변환"
   ]
  },
  {
   "cell_type": "code",
   "execution_count": null,
   "id": "35577c9e",
   "metadata": {},
   "outputs": [],
   "source": [
    "# 텍스트 토큰화 및 PyTorch 텐서 변환\n",
    "inputs = tokenizer(input_text, return_tensors=\"pt\")\n"
   ]
  },
  {
   "cell_type": "markdown",
   "id": "157b0419",
   "metadata": {},
   "source": [
    "### 1.5.3 LLAMA3 모델을 사용한 텍스트 생성"
   ]
  },
  {
   "cell_type": "code",
   "execution_count": null,
   "id": "d97e2b13",
   "metadata": {},
   "outputs": [],
   "source": [
    "# LLAMA3 모델을 사용한 텍스트 생성\n",
    "output = model.generate(**inputs, max_length=50)\n",
    "generated_text = tokenizer.decode(output[0], skip_special_tokens=True)\n",
    "\n",
    "print(generated_text)\n"
   ]
  }
 ],
 "metadata": {},
 "nbformat": 4,
 "nbformat_minor": 5
}
